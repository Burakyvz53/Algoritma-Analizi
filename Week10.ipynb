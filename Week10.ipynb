{
 "cells": [
  {
   "cell_type": "code",
   "execution_count": 8,
   "id": "a7bb7118",
   "metadata": {},
   "outputs": [],
   "source": [
    "# Fibonacci function:\n",
    "def fib(n):\n",
    "    \"\"\"Assumes n is an int >= 0\n",
    "    Returns Fibonacci of n\"\"\"\n",
    "    print(\"şu anki call (çağrım) değeri : \",n)\n",
    "    if n == 0 or n == 1:\n",
    "        return 1\n",
    "    else:\n",
    "        return fib(n-1) + fib(n-2)"
   ]
  },
  {
   "cell_type": "code",
   "execution_count": 11,
   "id": "b9283d82",
   "metadata": {},
   "outputs": [
    {
     "name": "stdout",
     "output_type": "stream",
     "text": [
      "şu anki call (çağrım) değeri :  4\n",
      "şu anki call (çağrım) değeri :  3\n",
      "şu anki call (çağrım) değeri :  2\n",
      "şu anki call (çağrım) değeri :  1\n",
      "şu anki call (çağrım) değeri :  0\n",
      "şu anki call (çağrım) değeri :  1\n",
      "şu anki call (çağrım) değeri :  2\n",
      "şu anki call (çağrım) değeri :  1\n",
      "şu anki call (çağrım) değeri :  0\n"
     ]
    },
    {
     "data": {
      "text/plain": [
       "5"
      ]
     },
     "execution_count": 11,
     "metadata": {},
     "output_type": "execute_result"
    }
   ],
   "source": [
    "fib(4)"
   ]
  },
  {
   "cell_type": "code",
   "execution_count": 12,
   "id": "0bd304ae",
   "metadata": {},
   "outputs": [],
   "source": [
    "def fastFib(n,memo = {} ):\n",
    "    \"\"\"Assumes n is an int >= 0,memo used to only by recursive calls\n",
    "    Returns Fibonacci of n\"\"\"\n",
    "    print(\"şu anki call (çağrım) değeri : \",n)\n",
    "    if n == 0 or n == 1:\n",
    "        return 1\n",
    "    try:\n",
    "        return memo[n]\n",
    "    except KeyError:\n",
    "        result = fastFib(n-1,memo) + fastFib(n-2,memo)\n",
    "        memo[n] = result\n",
    "    return result"
   ]
  },
  {
   "cell_type": "code",
   "execution_count": 13,
   "id": "e23c70ca",
   "metadata": {},
   "outputs": [
    {
     "name": "stdout",
     "output_type": "stream",
     "text": [
      "şu anki call (çağrım) değeri :  4\n",
      "şu anki call (çağrım) değeri :  3\n",
      "şu anki call (çağrım) değeri :  2\n",
      "şu anki call (çağrım) değeri :  1\n",
      "şu anki call (çağrım) değeri :  0\n",
      "şu anki call (çağrım) değeri :  1\n",
      "şu anki call (çağrım) değeri :  2\n"
     ]
    },
    {
     "data": {
      "text/plain": [
       "5"
      ]
     },
     "execution_count": 13,
     "metadata": {},
     "output_type": "execute_result"
    }
   ],
   "source": [
    "fastFib(4)"
   ]
  },
  {
   "cell_type": "code",
   "execution_count": null,
   "id": "697dce7b",
   "metadata": {},
   "outputs": [],
   "source": []
  }
 ],
 "metadata": {
  "kernelspec": {
   "display_name": "Python 3",
   "language": "python",
   "name": "python3"
  },
  "language_info": {
   "codemirror_mode": {
    "name": "ipython",
    "version": 3
   },
   "file_extension": ".py",
   "mimetype": "text/x-python",
   "name": "python",
   "nbconvert_exporter": "python",
   "pygments_lexer": "ipython3",
   "version": "3.8.8"
  }
 },
 "nbformat": 4,
 "nbformat_minor": 5
}
