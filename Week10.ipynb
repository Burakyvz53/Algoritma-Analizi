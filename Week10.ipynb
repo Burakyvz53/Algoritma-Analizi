{
 "cells": [
  {
   "cell_type": "code",
   "execution_count": 15,
   "id": "a7bb7118",
   "metadata": {},
   "outputs": [],
   "source": [
    "# Dynamic Programming\n",
    "# Fibonacci function:\n",
    "def fib(n):\n",
    "    \"\"\"Assumes n is an int >= 0\n",
    "    Returns Fibonacci of n\"\"\"\n",
    "    print(\"şu anki call değeri : \",n)\n",
    "    if n == 0 or n == 1:\n",
    "        return 1\n",
    "    else:\n",
    "        return fib(n-1) + fib(n-2)"
   ]
  },
  {
   "cell_type": "code",
   "execution_count": 16,
   "id": "b9283d82",
   "metadata": {},
   "outputs": [
    {
     "name": "stdout",
     "output_type": "stream",
     "text": [
      "şu anki call değeri :  4\n",
      "şu anki call değeri :  3\n",
      "şu anki call değeri :  2\n",
      "şu anki call değeri :  1\n",
      "şu anki call değeri :  0\n",
      "şu anki call değeri :  1\n",
      "şu anki call değeri :  2\n",
      "şu anki call değeri :  1\n",
      "şu anki call değeri :  0\n"
     ]
    },
    {
     "data": {
      "text/plain": [
       "5"
      ]
     },
     "execution_count": 16,
     "metadata": {},
     "output_type": "execute_result"
    }
   ],
   "source": [
    "fib(4)"
   ]
  },
  {
   "cell_type": "code",
   "execution_count": 12,
   "id": "0bd304ae",
   "metadata": {},
   "outputs": [],
   "source": [
    "# Memoization\n",
    "def fastFib(n,memo = {} ):\n",
    "    \"\"\"Assumes n is an int >= 0,memo used to only by recursive calls\n",
    "    Returns Fibonacci of n\"\"\"\n",
    "    print(\"şu anki call değeri : \",n)\n",
    "    if n == 0 or n == 1:\n",
    "        return 1\n",
    "    try:\n",
    "        return memo[n]\n",
    "    except KeyError:\n",
    "        result = fastFib(n-1,memo) + fastFib(n-2,memo)\n",
    "        memo[n] = result\n",
    "    return result"
   ]
  },
  {
   "cell_type": "code",
   "execution_count": 13,
   "id": "ec28c73a",
   "metadata": {},
   "outputs": [
    {
     "name": "stdout",
     "output_type": "stream",
     "text": [
      "şu anki call (çağrım) değeri :  4\n",
      "şu anki call (çağrım) değeri :  3\n",
      "şu anki call (çağrım) değeri :  2\n",
      "şu anki call (çağrım) değeri :  1\n",
      "şu anki call (çağrım) değeri :  0\n",
      "şu anki call (çağrım) değeri :  1\n",
      "şu anki call (çağrım) değeri :  2\n"
     ]
    },
    {
     "data": {
      "text/plain": [
       "5"
      ]
     },
     "execution_count": 13,
     "metadata": {},
     "output_type": "execute_result"
    }
   ],
   "source": [
    "fastFib(4)"
   ]
  },
  {
   "cell_type": "code",
   "execution_count": 17,
   "id": "3173023b",
   "metadata": {},
   "outputs": [],
   "source": [
    "# 0/1 Knapsack Problem\n",
    "# Rooted Binary Tree - Decision Tree For Knapsack Problem\n",
    "class Item(object):\n",
    "    def __init__(self,n,v,w):\n",
    "        self.name=n\n",
    "        self.value=v\n",
    "        self.weight=w\n",
    "        \n",
    "    def getName(self):\n",
    "        return self.name\n",
    "    def getValue(self):\n",
    "        return self.value\n",
    "    def getWeight(self):\n",
    "        return self.weight\n",
    "    \n",
    "    def __str__(self):\n",
    "        result = '<' + self.name +','+str(self.value)+','+str(self.weight) + '>'\n",
    "        return result"
   ]
  },
  {
   "cell_type": "code",
   "execution_count": 18,
   "id": "909b1791",
   "metadata": {},
   "outputs": [],
   "source": [
    "def maxVal(toConsider , avail):\n",
    "    if(toConsider== [] or avail ==0):\n",
    "        result =(0,())\n",
    "    elif (toConsider[0].getWeight() > avail):\n",
    "        result = maxVal(toConsider[1:],avail)\n",
    "    else:\n",
    "        nextItem = toConsider[0]\n",
    "        withVal , withToTake = maxVal(toConsider[1:],avail-nextItem.getWeight())\n",
    "        \n",
    "        withVal+= nextItem.getValue()\n",
    "        withoutVal,withoutToTake = maxVal(toConsider[1:],avail)\n",
    "        \n",
    "        if(withVal > withoutVal):\n",
    "            result = (withVal,withToTake + (nextItem,))\n",
    "        else:\n",
    "            result = (withoutVal,withoutToTake)\n",
    "    return result"
   ]
  },
  {
   "cell_type": "code",
   "execution_count": 23,
   "id": "a8991829",
   "metadata": {},
   "outputs": [],
   "source": [
    "def smallTest():\n",
    "    names = ['a','b','c','d']\n",
    "    vals = [6,7,8,9]\n",
    "    weights = [2,2,4,6]\n",
    "    \n",
    "    Items =[]\n",
    "    \n",
    "    for i in range(len(vals)):\n",
    "        Items.append(Item(names[i],vals[i],weights[i]))\n",
    "    val,taken = maxVal(Items,5)\n",
    "    for item in taken:\n",
    "        print(item)\n",
    "        \n",
    "    print('Total value of items taken =',val)"
   ]
  },
  {
   "cell_type": "code",
   "execution_count": 24,
   "id": "dc5824f4",
   "metadata": {},
   "outputs": [
    {
     "name": "stdout",
     "output_type": "stream",
     "text": [
      "<b,7,2>\n",
      "<a,6,2>\n",
      "Total value of items taken = 13\n"
     ]
    }
   ],
   "source": [
    "smallTest()"
   ]
  },
  {
   "cell_type": "code",
   "execution_count": 25,
   "id": "28ea22ab",
   "metadata": {},
   "outputs": [],
   "source": [
    "def bigTest(numItems):\n",
    "    items = buildManyItems(numItems,10,10)\n",
    "    val,taken = maxVal(items,40)\n",
    "    print('Items Taken')\n",
    "    for item in taken:\n",
    "        print(item)\n",
    "        print('Total value of items taken= ',val)"
   ]
  },
  {
   "cell_type": "code",
   "execution_count": 26,
   "id": "50e84f64",
   "metadata": {},
   "outputs": [],
   "source": [
    "import random\n",
    "def buildManyItems(numItems,maxVal,maxWeight):\n",
    "    items=[]\n",
    "    for i in range(numItems):\n",
    "        items.append(Item(str(i),random.randint(1,maxVal),random.randint(1,maxWeight)))\n",
    "    return items"
   ]
  },
  {
   "cell_type": "code",
   "execution_count": 29,
   "id": "c2775a11",
   "metadata": {},
   "outputs": [
    {
     "name": "stdout",
     "output_type": "stream",
     "text": [
      "Items Taken\n",
      "<4,1,5>\n",
      "Total value of items taken=  30\n",
      "<3,10,9>\n",
      "Total value of items taken=  30\n",
      "<2,9,1>\n",
      "Total value of items taken=  30\n",
      "<1,8,8>\n",
      "Total value of items taken=  30\n",
      "<0,2,5>\n",
      "Total value of items taken=  30\n"
     ]
    }
   ],
   "source": [
    "bigTest(5)"
   ]
  },
  {
   "cell_type": "code",
   "execution_count": 30,
   "id": "a56bb295",
   "metadata": {},
   "outputs": [],
   "source": [
    "# Memoization method use of Decision Tree for Knapsack Problem\n",
    "def fastMaxValDT(toConsider,avail,memo= {}):\n",
    "    \n",
    "    if((len(toConsider),avail) in memo):\n",
    "        result = memo[(len(toConsider),avail)]\n",
    "    elif( toConsider == [] or avail==0):\n",
    "        result=(0,())\n",
    "    elif (toConsider[0].getWeight()>avail):\n",
    "        result=fastMAxValDT(toConsider[1:],avail,memo)\n",
    "    else:\n",
    "        nextItem = toConsider[0]\n",
    "        withVal,withToTake=fastMaxValDT(toConsider[1:],avail-nextItem.getWeight(),memo)\n",
    "        withVal+=nextItem.getValue()\n",
    "        \n",
    "        withoutVal,withtoutToTake=fastMaxValDT(toConsider[1:],avail,memo)\n",
    "        \n",
    "        if( withVal > withoutVal):\n",
    "            result =(withoutVal ,withToTake + (nextItem,))\n",
    "        else:\n",
    "            result =(withoutVal,withToTake)\n",
    "        memo[(len(toConsider),avail)] =result\n",
    "    return result"
   ]
  },
  {
   "cell_type": "code",
   "execution_count": 32,
   "id": "0c6b82fe",
   "metadata": {},
   "outputs": [
    {
     "data": {
      "text/plain": [
       "(0,\n",
       " (<__main__.Item at 0x36645f8>,\n",
       "  <__main__.Item at 0x3664e50>,\n",
       "  <__main__.Item at 0x3664940>,\n",
       "  <__main__.Item at 0x36646a0>,\n",
       "  <__main__.Item at 0x3664388>))"
      ]
     },
     "execution_count": 32,
     "metadata": {},
     "output_type": "execute_result"
    }
   ],
   "source": [
    "numItems = 5\n",
    "items = buildManyItems(numItems,10,10)\n",
    "fastMaxValDT(items,40)"
   ]
  },
  {
   "cell_type": "code",
   "execution_count": null,
   "id": "11807360",
   "metadata": {},
   "outputs": [],
   "source": []
  }
 ],
 "metadata": {
  "kernelspec": {
   "display_name": "Python 3",
   "language": "python",
   "name": "python3"
  },
  "language_info": {
   "codemirror_mode": {
    "name": "ipython",
    "version": 3
   },
   "file_extension": ".py",
   "mimetype": "text/x-python",
   "name": "python",
   "nbconvert_exporter": "python",
   "pygments_lexer": "ipython3",
   "version": "3.8.8"
  }
 },
 "nbformat": 4,
 "nbformat_minor": 5
}
